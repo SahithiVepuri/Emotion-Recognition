{
 "cells": [
  {
   "cell_type": "code",
   "execution_count": 1,
   "metadata": {},
   "outputs": [],
   "source": [
    "import librosa\n",
    "import soundfile\n",
    "import os, glob, pickle\n",
    "import numpy as np\n",
    "from sklearn.model_selection import train_test_split\n",
    "from sklearn.neural_network import MLPClassifier\n",
    "from sklearn.metrics import accuracy_score"
   ]
  },
  {
   "cell_type": "code",
   "execution_count": 2,
   "metadata": {},
   "outputs": [],
   "source": [
    "def extract_feature(file_name, mfcc, chroma, mel):\n",
    "  with soundfile.SoundFile(file_name) as sound_file:\n",
    "    X = sound_file.read(dtype=\"float32\")\n",
    "    sample_rate=sound_file.samplerate\n",
    "    if chroma:\n",
    "      stft=np.abs(librosa.stft(X))\n",
    "    result=np.array([])\n",
    "    if mfcc:\n",
    "      mfccs=np.mean(librosa.feature.mfcc(y=X, sr=sample_rate, n_mfcc=40).T, axis=0)\n",
    "      result=np.hstack((result, mfccs))\n",
    "    if chroma:\n",
    "      chroma=np.mean(librosa.feature.chroma_stft(S=stft, sr=sample_rate).T,axis=0)\n",
    "      result=np.hstack((result, chroma))\n",
    "    if mel:\n",
    "      mel=np.mean(librosa.feature.melspectrogram(X, sr=sample_rate).T,axis=0)\n",
    "      result=np.hstack((result, mel))\n",
    "  return result"
   ]
  },
  {
   "cell_type": "code",
   "execution_count": 3,
   "metadata": {},
   "outputs": [],
   "source": [
    "emotions = {\n",
    "  '01': 'anger',\n",
    "  '02': 'clear',\n",
    "  '03': 'loud',\n",
    "  '04': 'neutral',\n",
    "  '05': 'slow',\n",
    "}\n",
    "\n",
    "observed_emotions = ['anger', 'clear', 'loud', 'neutral', 'slow']"
   ]
  },
  {
   "cell_type": "code",
   "execution_count": 4,
   "metadata": {},
   "outputs": [],
   "source": [
    "def load_data(test_size=0.2):\n",
    "    x,y=[],[]\n",
    "    for file in glob.glob(\"F:\\\\3Y-odd\\\\ML\\\\Project\\\\sph-stress\\\\speech_train\\\\*.sph\"):\n",
    "        file_name=os.path.basename(file)\n",
    "        emotion=emotions[file_name.split(\"-\")[0]]\n",
    "        if emotion not in observed_emotions:\n",
    "            continue\n",
    "        feature=extract_feature(file, mfcc=True, chroma=True, mel=True)\n",
    "        x.append(feature)\n",
    "        y.append(emotion)\n",
    "    return train_test_split(np.array(x), y, test_size=test_size, random_state=9)"
   ]
  },
  {
   "cell_type": "code",
   "execution_count": 5,
   "metadata": {},
   "outputs": [
    {
     "name": "stderr",
     "output_type": "stream",
     "text": [
      "C:\\Users\\jayak\\AppData\\Local\\Temp\\ipykernel_2820\\1036010410.py:15: FutureWarning: Pass y=[ 0.          0.          0.         ... -0.00180054 -0.00219727\n",
      " -0.00152588] as keyword args. From version 0.10 passing these as positional arguments will result in an error\n",
      "  mel=np.mean(librosa.feature.melspectrogram(X, sr=sample_rate).T,axis=0)\n",
      "C:\\Users\\jayak\\AppData\\Local\\Temp\\ipykernel_2820\\1036010410.py:15: FutureWarning: Pass y=[ 0.0000000e+00  0.0000000e+00  0.0000000e+00 ... -5.7983398e-04\n",
      "  9.1552734e-05 -8.5449219e-04] as keyword args. From version 0.10 passing these as positional arguments will result in an error\n",
      "  mel=np.mean(librosa.feature.melspectrogram(X, sr=sample_rate).T,axis=0)\n",
      "C:\\Users\\jayak\\AppData\\Local\\Temp\\ipykernel_2820\\1036010410.py:15: FutureWarning: Pass y=[ 0.          0.          0.         ... -0.00228882 -0.00106812\n",
      "  0.00030518] as keyword args. From version 0.10 passing these as positional arguments will result in an error\n",
      "  mel=np.mean(librosa.feature.melspectrogram(X, sr=sample_rate).T,axis=0)\n",
      "C:\\Users\\jayak\\AppData\\Local\\Temp\\ipykernel_2820\\1036010410.py:15: FutureWarning: Pass y=[ 0.0000000e+00  0.0000000e+00 -3.0517578e-05 ...  5.9509277e-03\n",
      "  5.5847168e-03  1.9836426e-03] as keyword args. From version 0.10 passing these as positional arguments will result in an error\n",
      "  mel=np.mean(librosa.feature.melspectrogram(X, sr=sample_rate).T,axis=0)\n",
      "C:\\Users\\jayak\\AppData\\Local\\Temp\\ipykernel_2820\\1036010410.py:15: FutureWarning: Pass y=[ 0.0000000e+00 -3.0517578e-05  0.0000000e+00 ...  1.5258789e-04\n",
      "  1.8310547e-04  1.8310547e-04] as keyword args. From version 0.10 passing these as positional arguments will result in an error\n",
      "  mel=np.mean(librosa.feature.melspectrogram(X, sr=sample_rate).T,axis=0)\n",
      "C:\\Users\\jayak\\AppData\\Local\\Temp\\ipykernel_2820\\1036010410.py:15: FutureWarning: Pass y=[ 0.          0.          0.         ... -0.01016235 -0.01116943\n",
      " -0.01345825] as keyword args. From version 0.10 passing these as positional arguments will result in an error\n",
      "  mel=np.mean(librosa.feature.melspectrogram(X, sr=sample_rate).T,axis=0)\n",
      "C:\\Users\\jayak\\AppData\\Local\\Temp\\ipykernel_2820\\1036010410.py:15: FutureWarning: Pass y=[ 0.          0.          0.         ... -0.00177002 -0.00393677\n",
      " -0.00262451] as keyword args. From version 0.10 passing these as positional arguments will result in an error\n",
      "  mel=np.mean(librosa.feature.melspectrogram(X, sr=sample_rate).T,axis=0)\n",
      "C:\\Users\\jayak\\AppData\\Local\\Temp\\ipykernel_2820\\1036010410.py:15: FutureWarning: Pass y=[ 0.0000000e+00  0.0000000e+00  0.0000000e+00 ...  3.0517578e-04\n",
      " -1.8310547e-03  9.1552734e-05] as keyword args. From version 0.10 passing these as positional arguments will result in an error\n",
      "  mel=np.mean(librosa.feature.melspectrogram(X, sr=sample_rate).T,axis=0)\n",
      "C:\\Users\\jayak\\AppData\\Local\\Temp\\ipykernel_2820\\1036010410.py:15: FutureWarning: Pass y=[ 0.          0.          0.         ...  0.00341797 -0.00045776\n",
      " -0.00097656] as keyword args. From version 0.10 passing these as positional arguments will result in an error\n",
      "  mel=np.mean(librosa.feature.melspectrogram(X, sr=sample_rate).T,axis=0)\n",
      "C:\\Users\\jayak\\AppData\\Local\\Temp\\ipykernel_2820\\1036010410.py:15: FutureWarning: Pass y=[ 0.          0.          0.         ... -0.0050354  -0.00961304\n",
      " -0.00665283] as keyword args. From version 0.10 passing these as positional arguments will result in an error\n",
      "  mel=np.mean(librosa.feature.melspectrogram(X, sr=sample_rate).T,axis=0)\n",
      "C:\\Users\\jayak\\AppData\\Local\\Temp\\ipykernel_2820\\1036010410.py:15: FutureWarning: Pass y=[ 0.0000000e+00  0.0000000e+00  0.0000000e+00 ... -7.3242188e-04\n",
      " -9.1552734e-05 -3.0517578e-05] as keyword args. From version 0.10 passing these as positional arguments will result in an error\n",
      "  mel=np.mean(librosa.feature.melspectrogram(X, sr=sample_rate).T,axis=0)\n",
      "C:\\Users\\jayak\\AppData\\Local\\Temp\\ipykernel_2820\\1036010410.py:15: FutureWarning: Pass y=[ 0.0000000e+00  0.0000000e+00  0.0000000e+00 ... -6.1035156e-05\n",
      " -3.0517578e-05 -6.1035156e-05] as keyword args. From version 0.10 passing these as positional arguments will result in an error\n",
      "  mel=np.mean(librosa.feature.melspectrogram(X, sr=sample_rate).T,axis=0)\n",
      "C:\\Users\\jayak\\AppData\\Local\\Temp\\ipykernel_2820\\1036010410.py:15: FutureWarning: Pass y=[ 0.          0.          0.         ...  0.00289917  0.00036621\n",
      " -0.00073242] as keyword args. From version 0.10 passing these as positional arguments will result in an error\n",
      "  mel=np.mean(librosa.feature.melspectrogram(X, sr=sample_rate).T,axis=0)\n",
      "C:\\Users\\jayak\\AppData\\Local\\Temp\\ipykernel_2820\\1036010410.py:15: FutureWarning: Pass y=[ 0.          0.          0.         ...  0.00061035  0.00042725\n",
      " -0.00088501] as keyword args. From version 0.10 passing these as positional arguments will result in an error\n",
      "  mel=np.mean(librosa.feature.melspectrogram(X, sr=sample_rate).T,axis=0)\n",
      "C:\\Users\\jayak\\AppData\\Local\\Temp\\ipykernel_2820\\1036010410.py:15: FutureWarning: Pass y=[ 0.0000000e+00  0.0000000e+00  0.0000000e+00 ...  3.0517578e-05\n",
      " -7.9345703e-04 -1.9226074e-03] as keyword args. From version 0.10 passing these as positional arguments will result in an error\n",
      "  mel=np.mean(librosa.feature.melspectrogram(X, sr=sample_rate).T,axis=0)\n",
      "C:\\Users\\jayak\\AppData\\Local\\Temp\\ipykernel_2820\\1036010410.py:15: FutureWarning: Pass y=[ 0.          0.          0.         ... -0.00231934 -0.00262451\n",
      "  0.00042725] as keyword args. From version 0.10 passing these as positional arguments will result in an error\n",
      "  mel=np.mean(librosa.feature.melspectrogram(X, sr=sample_rate).T,axis=0)\n",
      "C:\\Users\\jayak\\AppData\\Local\\Temp\\ipykernel_2820\\1036010410.py:15: FutureWarning: Pass y=[ 0.          0.          0.         ...  0.00201416 -0.00018311\n",
      "  0.00039673] as keyword args. From version 0.10 passing these as positional arguments will result in an error\n",
      "  mel=np.mean(librosa.feature.melspectrogram(X, sr=sample_rate).T,axis=0)\n",
      "C:\\Users\\jayak\\AppData\\Local\\Temp\\ipykernel_2820\\1036010410.py:15: FutureWarning: Pass y=[ 0.0000000e+00  0.0000000e+00 -6.1035156e-05 ...  8.2397461e-04\n",
      "  1.2207031e-04  6.1035156e-05] as keyword args. From version 0.10 passing these as positional arguments will result in an error\n",
      "  mel=np.mean(librosa.feature.melspectrogram(X, sr=sample_rate).T,axis=0)\n",
      "C:\\Users\\jayak\\AppData\\Local\\Temp\\ipykernel_2820\\1036010410.py:15: FutureWarning: Pass y=[ 0.          0.          0.         ... -0.00012207 -0.00143433\n",
      "  0.00048828] as keyword args. From version 0.10 passing these as positional arguments will result in an error\n",
      "  mel=np.mean(librosa.feature.melspectrogram(X, sr=sample_rate).T,axis=0)\n",
      "C:\\Users\\jayak\\AppData\\Local\\Temp\\ipykernel_2820\\1036010410.py:15: FutureWarning: Pass y=[0.0000000e+00 0.0000000e+00 3.0517578e-05 ... 3.4179688e-03 2.8076172e-03\n",
      " 1.6479492e-03] as keyword args. From version 0.10 passing these as positional arguments will result in an error\n",
      "  mel=np.mean(librosa.feature.melspectrogram(X, sr=sample_rate).T,axis=0)\n",
      "C:\\Users\\jayak\\AppData\\Local\\Temp\\ipykernel_2820\\1036010410.py:15: FutureWarning: Pass y=[ 0.          0.          0.         ... -0.00015259 -0.00167847\n",
      " -0.00112915] as keyword args. From version 0.10 passing these as positional arguments will result in an error\n",
      "  mel=np.mean(librosa.feature.melspectrogram(X, sr=sample_rate).T,axis=0)\n",
      "C:\\Users\\jayak\\AppData\\Local\\Temp\\ipykernel_2820\\1036010410.py:15: FutureWarning: Pass y=[ 0.          0.          0.         ...  0.00109863  0.00039673\n",
      " -0.00061035] as keyword args. From version 0.10 passing these as positional arguments will result in an error\n",
      "  mel=np.mean(librosa.feature.melspectrogram(X, sr=sample_rate).T,axis=0)\n",
      "C:\\Users\\jayak\\AppData\\Local\\Temp\\ipykernel_2820\\1036010410.py:15: FutureWarning: Pass y=[ 0.          0.          0.         ... -0.00268555 -0.00128174\n",
      " -0.00219727] as keyword args. From version 0.10 passing these as positional arguments will result in an error\n",
      "  mel=np.mean(librosa.feature.melspectrogram(X, sr=sample_rate).T,axis=0)\n",
      "C:\\Users\\jayak\\AppData\\Local\\Temp\\ipykernel_2820\\1036010410.py:15: FutureWarning: Pass y=[ 0.          0.          0.         ...  0.00036621 -0.00238037\n",
      " -0.00311279] as keyword args. From version 0.10 passing these as positional arguments will result in an error\n",
      "  mel=np.mean(librosa.feature.melspectrogram(X, sr=sample_rate).T,axis=0)\n",
      "C:\\Users\\jayak\\AppData\\Local\\Temp\\ipykernel_2820\\1036010410.py:15: FutureWarning: Pass y=[ 0.          0.          0.         ... -0.00048828  0.00061035\n",
      "  0.00088501] as keyword args. From version 0.10 passing these as positional arguments will result in an error\n",
      "  mel=np.mean(librosa.feature.melspectrogram(X, sr=sample_rate).T,axis=0)\n",
      "C:\\Users\\jayak\\AppData\\Local\\Temp\\ipykernel_2820\\1036010410.py:15: FutureWarning: Pass y=[ 0.          0.          0.         ... -0.00726318 -0.01104736\n",
      " -0.01281738] as keyword args. From version 0.10 passing these as positional arguments will result in an error\n",
      "  mel=np.mean(librosa.feature.melspectrogram(X, sr=sample_rate).T,axis=0)\n",
      "C:\\Users\\jayak\\AppData\\Local\\Temp\\ipykernel_2820\\1036010410.py:15: FutureWarning: Pass y=[ 0.          0.          0.         ... -0.00039673 -0.00079346\n",
      " -0.00177002] as keyword args. From version 0.10 passing these as positional arguments will result in an error\n",
      "  mel=np.mean(librosa.feature.melspectrogram(X, sr=sample_rate).T,axis=0)\n",
      "C:\\Users\\jayak\\AppData\\Local\\Temp\\ipykernel_2820\\1036010410.py:15: FutureWarning: Pass y=[ 0.          0.          0.         ... -0.00823975 -0.00772095\n",
      " -0.00909424] as keyword args. From version 0.10 passing these as positional arguments will result in an error\n",
      "  mel=np.mean(librosa.feature.melspectrogram(X, sr=sample_rate).T,axis=0)\n",
      "C:\\Users\\jayak\\AppData\\Local\\Temp\\ipykernel_2820\\1036010410.py:15: FutureWarning: Pass y=[ 0.0000000e+00  0.0000000e+00 -3.0517578e-05 ... -8.4228516e-03\n",
      " -7.6599121e-03 -1.8615723e-03] as keyword args. From version 0.10 passing these as positional arguments will result in an error\n",
      "  mel=np.mean(librosa.feature.melspectrogram(X, sr=sample_rate).T,axis=0)\n",
      "C:\\Users\\jayak\\AppData\\Local\\Temp\\ipykernel_2820\\1036010410.py:15: FutureWarning: Pass y=[ 0.0000000e+00 -6.1035156e-05  6.1035156e-05 ... -7.3242188e-03\n",
      " -4.7912598e-03  3.3569336e-03] as keyword args. From version 0.10 passing these as positional arguments will result in an error\n",
      "  mel=np.mean(librosa.feature.melspectrogram(X, sr=sample_rate).T,axis=0)\n",
      "C:\\Users\\jayak\\AppData\\Local\\Temp\\ipykernel_2820\\1036010410.py:15: FutureWarning: Pass y=[ 0.          0.          0.         ... -0.00167847 -0.00213623\n",
      " -0.00222778] as keyword args. From version 0.10 passing these as positional arguments will result in an error\n",
      "  mel=np.mean(librosa.feature.melspectrogram(X, sr=sample_rate).T,axis=0)\n",
      "C:\\Users\\jayak\\AppData\\Local\\Temp\\ipykernel_2820\\1036010410.py:15: FutureWarning: Pass y=[0.0000000e+00 0.0000000e+00 0.0000000e+00 ... 2.8686523e-03 9.1552734e-05\n",
      " 1.9226074e-03] as keyword args. From version 0.10 passing these as positional arguments will result in an error\n",
      "  mel=np.mean(librosa.feature.melspectrogram(X, sr=sample_rate).T,axis=0)\n",
      "C:\\Users\\jayak\\AppData\\Local\\Temp\\ipykernel_2820\\1036010410.py:15: FutureWarning: Pass y=[ 0.          0.          0.         ... -0.0045166  -0.00289917\n",
      " -0.00320435] as keyword args. From version 0.10 passing these as positional arguments will result in an error\n",
      "  mel=np.mean(librosa.feature.melspectrogram(X, sr=sample_rate).T,axis=0)\n",
      "C:\\Users\\jayak\\AppData\\Local\\Temp\\ipykernel_2820\\1036010410.py:15: FutureWarning: Pass y=[ 0.0000000e+00  0.0000000e+00 -3.0517578e-05 ... -1.1993408e-02\n",
      " -1.3183594e-02 -1.3519287e-02] as keyword args. From version 0.10 passing these as positional arguments will result in an error\n",
      "  mel=np.mean(librosa.feature.melspectrogram(X, sr=sample_rate).T,axis=0)\n",
      "C:\\Users\\jayak\\AppData\\Local\\Temp\\ipykernel_2820\\1036010410.py:15: FutureWarning: Pass y=[ 0.          0.          0.         ... -0.00140381 -0.0012207\n",
      " -0.00177002] as keyword args. From version 0.10 passing these as positional arguments will result in an error\n",
      "  mel=np.mean(librosa.feature.melspectrogram(X, sr=sample_rate).T,axis=0)\n",
      "C:\\Users\\jayak\\AppData\\Local\\Temp\\ipykernel_2820\\1036010410.py:15: FutureWarning: Pass y=[ 0.0000000e+00  0.0000000e+00  0.0000000e+00 ... -1.8920898e-03\n",
      "  2.1667480e-03  6.1035156e-05] as keyword args. From version 0.10 passing these as positional arguments will result in an error\n",
      "  mel=np.mean(librosa.feature.melspectrogram(X, sr=sample_rate).T,axis=0)\n",
      "C:\\Users\\jayak\\AppData\\Local\\Temp\\ipykernel_2820\\1036010410.py:15: FutureWarning: Pass y=[ 0.0000000e+00 -3.0517578e-05  3.0517578e-05 ...  3.0517578e-04\n",
      "  4.2724609e-04  1.4343262e-03] as keyword args. From version 0.10 passing these as positional arguments will result in an error\n",
      "  mel=np.mean(librosa.feature.melspectrogram(X, sr=sample_rate).T,axis=0)\n",
      "C:\\Users\\jayak\\AppData\\Local\\Temp\\ipykernel_2820\\1036010410.py:15: FutureWarning: Pass y=[ 0.0000000e+00  6.1035156e-05 -6.1035156e-05 ... -4.3029785e-03\n",
      " -6.3476562e-03 -4.0588379e-03] as keyword args. From version 0.10 passing these as positional arguments will result in an error\n",
      "  mel=np.mean(librosa.feature.melspectrogram(X, sr=sample_rate).T,axis=0)\n",
      "C:\\Users\\jayak\\AppData\\Local\\Temp\\ipykernel_2820\\1036010410.py:15: FutureWarning: Pass y=[ 0.          0.          0.         ...  0.00210571  0.00039673\n",
      " -0.00036621] as keyword args. From version 0.10 passing these as positional arguments will result in an error\n",
      "  mel=np.mean(librosa.feature.melspectrogram(X, sr=sample_rate).T,axis=0)\n",
      "C:\\Users\\jayak\\AppData\\Local\\Temp\\ipykernel_2820\\1036010410.py:15: FutureWarning: Pass y=[ 0.          0.          0.         ...  0.00012207 -0.003479\n",
      " -0.00018311] as keyword args. From version 0.10 passing these as positional arguments will result in an error\n",
      "  mel=np.mean(librosa.feature.melspectrogram(X, sr=sample_rate).T,axis=0)\n",
      "C:\\Users\\jayak\\AppData\\Local\\Temp\\ipykernel_2820\\1036010410.py:15: FutureWarning: Pass y=[-0.00180054 -0.0015564  -0.0012207  ...  0.00024414  0.00210571\n",
      "  0.00259399] as keyword args. From version 0.10 passing these as positional arguments will result in an error\n",
      "  mel=np.mean(librosa.feature.melspectrogram(X, sr=sample_rate).T,axis=0)\n",
      "C:\\Users\\jayak\\AppData\\Local\\Temp\\ipykernel_2820\\1036010410.py:15: FutureWarning: Pass y=[ 0.         -0.0032959  -0.00216675 ... -0.0062561  -0.00839233\n",
      " -0.00817871] as keyword args. From version 0.10 passing these as positional arguments will result in an error\n",
      "  mel=np.mean(librosa.feature.melspectrogram(X, sr=sample_rate).T,axis=0)\n",
      "C:\\Users\\jayak\\AppData\\Local\\Temp\\ipykernel_2820\\1036010410.py:15: FutureWarning: Pass y=[-0.00097656 -0.00018311 -0.00292969 ...  0.00228882  0.00039673\n",
      "  0.00140381] as keyword args. From version 0.10 passing these as positional arguments will result in an error\n",
      "  mel=np.mean(librosa.feature.melspectrogram(X, sr=sample_rate).T,axis=0)\n",
      "C:\\Users\\jayak\\AppData\\Local\\Temp\\ipykernel_2820\\1036010410.py:15: FutureWarning: Pass y=[ 0.00109863 -0.00216675  0.0043335  ...  0.00839233  0.01266479\n",
      "  0.00686646] as keyword args. From version 0.10 passing these as positional arguments will result in an error\n",
      "  mel=np.mean(librosa.feature.melspectrogram(X, sr=sample_rate).T,axis=0)\n",
      "C:\\Users\\jayak\\AppData\\Local\\Temp\\ipykernel_2820\\1036010410.py:15: FutureWarning: Pass y=[-1.3732910e-03 -6.4086914e-04 -7.9345703e-04 ...  3.0517578e-05\n",
      "  7.9345703e-04 -4.5776367e-03] as keyword args. From version 0.10 passing these as positional arguments will result in an error\n",
      "  mel=np.mean(librosa.feature.melspectrogram(X, sr=sample_rate).T,axis=0)\n",
      "C:\\Users\\jayak\\AppData\\Local\\Temp\\ipykernel_2820\\1036010410.py:15: FutureWarning: Pass y=[-0.00369263 -0.00308228 -0.00030518 ... -0.00201416 -0.00054932\n",
      "  0.00384521] as keyword args. From version 0.10 passing these as positional arguments will result in an error\n",
      "  mel=np.mean(librosa.feature.melspectrogram(X, sr=sample_rate).T,axis=0)\n",
      "C:\\Users\\jayak\\AppData\\Local\\Temp\\ipykernel_2820\\1036010410.py:15: FutureWarning: Pass y=[-0.00192261 -0.00131226 -0.00161743 ... -0.00518799 -0.00921631\n",
      " -0.0072937 ] as keyword args. From version 0.10 passing these as positional arguments will result in an error\n",
      "  mel=np.mean(librosa.feature.melspectrogram(X, sr=sample_rate).T,axis=0)\n",
      "C:\\Users\\jayak\\AppData\\Local\\Temp\\ipykernel_2820\\1036010410.py:15: FutureWarning: Pass y=[-0.00039673  0.00082397 -0.00241089 ... -0.00769043 -0.00830078\n",
      " -0.0072937 ] as keyword args. From version 0.10 passing these as positional arguments will result in an error\n",
      "  mel=np.mean(librosa.feature.melspectrogram(X, sr=sample_rate).T,axis=0)\n",
      "C:\\Users\\jayak\\AppData\\Local\\Temp\\ipykernel_2820\\1036010410.py:15: FutureWarning: Pass y=[ 0.00085449 -0.00268555 -0.00286865 ... -0.00411987 -0.00762939\n",
      " -0.01269531] as keyword args. From version 0.10 passing these as positional arguments will result in an error\n",
      "  mel=np.mean(librosa.feature.melspectrogram(X, sr=sample_rate).T,axis=0)\n",
      "C:\\Users\\jayak\\AppData\\Local\\Temp\\ipykernel_2820\\1036010410.py:15: FutureWarning: Pass y=[-0.0055542  -0.00482178 -0.0045166  ... -0.0038147  -0.00466919\n",
      " -0.0071106 ] as keyword args. From version 0.10 passing these as positional arguments will result in an error\n",
      "  mel=np.mean(librosa.feature.melspectrogram(X, sr=sample_rate).T,axis=0)\n",
      "C:\\Users\\jayak\\AppData\\Local\\Temp\\ipykernel_2820\\1036010410.py:15: FutureWarning: Pass y=[ 0.00024414 -0.00021362 -0.00012207 ... -0.00457764 -0.00650024\n",
      " -0.00030518] as keyword args. From version 0.10 passing these as positional arguments will result in an error\n",
      "  mel=np.mean(librosa.feature.melspectrogram(X, sr=sample_rate).T,axis=0)\n",
      "C:\\Users\\jayak\\AppData\\Local\\Temp\\ipykernel_2820\\1036010410.py:15: FutureWarning: Pass y=[-0.00094604 -0.00097656 -0.00061035 ...  0.00146484  0.00350952\n",
      "  0.00125122] as keyword args. From version 0.10 passing these as positional arguments will result in an error\n",
      "  mel=np.mean(librosa.feature.melspectrogram(X, sr=sample_rate).T,axis=0)\n",
      "C:\\Users\\jayak\\AppData\\Local\\Temp\\ipykernel_2820\\1036010410.py:15: FutureWarning: Pass y=[-0.00067139  0.00039673 -0.00033569 ... -0.00170898 -0.00314331\n",
      "  0.0020752 ] as keyword args. From version 0.10 passing these as positional arguments will result in an error\n",
      "  mel=np.mean(librosa.feature.melspectrogram(X, sr=sample_rate).T,axis=0)\n",
      "C:\\Users\\jayak\\AppData\\Local\\Temp\\ipykernel_2820\\1036010410.py:15: FutureWarning: Pass y=[-0.00305176 -0.00567627 -0.00491333 ... -0.00088501 -0.00500488\n",
      " -0.00698853] as keyword args. From version 0.10 passing these as positional arguments will result in an error\n",
      "  mel=np.mean(librosa.feature.melspectrogram(X, sr=sample_rate).T,axis=0)\n",
      "C:\\Users\\jayak\\AppData\\Local\\Temp\\ipykernel_2820\\1036010410.py:15: FutureWarning: Pass y=[ 0.00045776 -0.00024414 -0.00076294 ... -0.00186157 -0.0038147\n",
      " -0.00485229] as keyword args. From version 0.10 passing these as positional arguments will result in an error\n",
      "  mel=np.mean(librosa.feature.melspectrogram(X, sr=sample_rate).T,axis=0)\n",
      "C:\\Users\\jayak\\AppData\\Local\\Temp\\ipykernel_2820\\1036010410.py:15: FutureWarning: Pass y=[-0.00048828 -0.00210571 -0.00183105 ...  0.00201416 -0.00228882\n",
      " -0.0007019 ] as keyword args. From version 0.10 passing these as positional arguments will result in an error\n",
      "  mel=np.mean(librosa.feature.melspectrogram(X, sr=sample_rate).T,axis=0)\n",
      "C:\\Users\\jayak\\AppData\\Local\\Temp\\ipykernel_2820\\1036010410.py:15: FutureWarning: Pass y=[ 0.00024414  0.00201416  0.00393677 ...  0.00042725  0.00527954\n",
      " -0.0057373 ] as keyword args. From version 0.10 passing these as positional arguments will result in an error\n",
      "  mel=np.mean(librosa.feature.melspectrogram(X, sr=sample_rate).T,axis=0)\n",
      "C:\\Users\\jayak\\AppData\\Local\\Temp\\ipykernel_2820\\1036010410.py:15: FutureWarning: Pass y=[-0.00598145  0.0038147  -0.0005188  ...  0.00286865  0.00219727\n",
      " -0.00061035] as keyword args. From version 0.10 passing these as positional arguments will result in an error\n",
      "  mel=np.mean(librosa.feature.melspectrogram(X, sr=sample_rate).T,axis=0)\n",
      "C:\\Users\\jayak\\AppData\\Local\\Temp\\ipykernel_2820\\1036010410.py:15: FutureWarning: Pass y=[ 0.00332642  0.00134277 -0.01123047 ...  0.00137329  0.00018311\n",
      " -0.00027466] as keyword args. From version 0.10 passing these as positional arguments will result in an error\n",
      "  mel=np.mean(librosa.feature.melspectrogram(X, sr=sample_rate).T,axis=0)\n",
      "C:\\Users\\jayak\\AppData\\Local\\Temp\\ipykernel_2820\\1036010410.py:15: FutureWarning: Pass y=[-0.00314331  0.0032959   0.00112915 ... -0.00463867 -0.00234985\n",
      "  0.00076294] as keyword args. From version 0.10 passing these as positional arguments will result in an error\n",
      "  mel=np.mean(librosa.feature.melspectrogram(X, sr=sample_rate).T,axis=0)\n",
      "C:\\Users\\jayak\\AppData\\Local\\Temp\\ipykernel_2820\\1036010410.py:15: FutureWarning: Pass y=[-6.7138672e-04 -9.1552734e-05 -6.1035156e-04 ...  5.6152344e-03\n",
      "  6.8359375e-03  8.7890625e-03] as keyword args. From version 0.10 passing these as positional arguments will result in an error\n",
      "  mel=np.mean(librosa.feature.melspectrogram(X, sr=sample_rate).T,axis=0)\n",
      "C:\\Users\\jayak\\AppData\\Local\\Temp\\ipykernel_2820\\1036010410.py:15: FutureWarning: Pass y=[-0.00653076 -0.00054932 -0.00772095 ... -0.01083374 -0.01223755\n",
      " -0.01000977] as keyword args. From version 0.10 passing these as positional arguments will result in an error\n",
      "  mel=np.mean(librosa.feature.melspectrogram(X, sr=sample_rate).T,axis=0)\n",
      "C:\\Users\\jayak\\AppData\\Local\\Temp\\ipykernel_2820\\1036010410.py:15: FutureWarning: Pass y=[-0.00137329 -0.00097656  0.00012207 ... -0.01385498 -0.01629639\n",
      " -0.01702881] as keyword args. From version 0.10 passing these as positional arguments will result in an error\n",
      "  mel=np.mean(librosa.feature.melspectrogram(X, sr=sample_rate).T,axis=0)\n",
      "C:\\Users\\jayak\\AppData\\Local\\Temp\\ipykernel_2820\\1036010410.py:15: FutureWarning: Pass y=[-9.1552734e-05  5.1879883e-04  6.1035156e-05 ... -9.2956543e-02\n",
      " -9.3994141e-02 -9.9487305e-02] as keyword args. From version 0.10 passing these as positional arguments will result in an error\n",
      "  mel=np.mean(librosa.feature.melspectrogram(X, sr=sample_rate).T,axis=0)\n",
      "C:\\Users\\jayak\\AppData\\Local\\Temp\\ipykernel_2820\\1036010410.py:15: FutureWarning: Pass y=[-0.00140381 -0.00061035 -0.00286865 ...  0.00405884  0.00515747\n",
      "  0.00570679] as keyword args. From version 0.10 passing these as positional arguments will result in an error\n",
      "  mel=np.mean(librosa.feature.melspectrogram(X, sr=sample_rate).T,axis=0)\n",
      "C:\\Users\\jayak\\AppData\\Local\\Temp\\ipykernel_2820\\1036010410.py:15: FutureWarning: Pass y=[-0.00112915 -0.0010376  -0.00097656 ... -0.0017395   0.00061035\n",
      "  0.        ] as keyword args. From version 0.10 passing these as positional arguments will result in an error\n",
      "  mel=np.mean(librosa.feature.melspectrogram(X, sr=sample_rate).T,axis=0)\n",
      "C:\\Users\\jayak\\AppData\\Local\\Temp\\ipykernel_2820\\1036010410.py:15: FutureWarning: Pass y=[-0.00189209 -0.0005188   0.00076294 ...  0.02609253  0.02609253\n",
      "  0.02459717] as keyword args. From version 0.10 passing these as positional arguments will result in an error\n",
      "  mel=np.mean(librosa.feature.melspectrogram(X, sr=sample_rate).T,axis=0)\n",
      "C:\\Users\\jayak\\AppData\\Local\\Temp\\ipykernel_2820\\1036010410.py:15: FutureWarning: Pass y=[ 3.3569336e-04 -6.1035156e-05 -6.1035156e-04 ... -6.1035156e-03\n",
      " -4.6691895e-03 -3.6621094e-03] as keyword args. From version 0.10 passing these as positional arguments will result in an error\n",
      "  mel=np.mean(librosa.feature.melspectrogram(X, sr=sample_rate).T,axis=0)\n",
      "C:\\Users\\jayak\\AppData\\Local\\Temp\\ipykernel_2820\\1036010410.py:15: FutureWarning: Pass y=[-0.00238037 -0.00634766 -0.00308228 ... -0.00518799 -0.00595093\n",
      " -0.00567627] as keyword args. From version 0.10 passing these as positional arguments will result in an error\n",
      "  mel=np.mean(librosa.feature.melspectrogram(X, sr=sample_rate).T,axis=0)\n",
      "C:\\Users\\jayak\\AppData\\Local\\Temp\\ipykernel_2820\\1036010410.py:15: FutureWarning: Pass y=[-0.00079346 -0.00079346  0.         ...  0.00558472  0.00308228\n",
      "  0.00125122] as keyword args. From version 0.10 passing these as positional arguments will result in an error\n",
      "  mel=np.mean(librosa.feature.melspectrogram(X, sr=sample_rate).T,axis=0)\n",
      "C:\\Users\\jayak\\AppData\\Local\\Temp\\ipykernel_2820\\1036010410.py:15: FutureWarning: Pass y=[-0.00137329  0.0015564   0.00082397 ... -0.00656128 -0.00738525\n",
      " -0.00540161] as keyword args. From version 0.10 passing these as positional arguments will result in an error\n",
      "  mel=np.mean(librosa.feature.melspectrogram(X, sr=sample_rate).T,axis=0)\n",
      "C:\\Users\\jayak\\AppData\\Local\\Temp\\ipykernel_2820\\1036010410.py:15: FutureWarning: Pass y=[ 0.00061035 -0.00201416 -0.00018311 ...  0.0050354   0.00680542\n",
      "  0.00375366] as keyword args. From version 0.10 passing these as positional arguments will result in an error\n",
      "  mel=np.mean(librosa.feature.melspectrogram(X, sr=sample_rate).T,axis=0)\n",
      "C:\\Users\\jayak\\AppData\\Local\\Temp\\ipykernel_2820\\1036010410.py:15: FutureWarning: Pass y=[ 0.00259399  0.00137329 -0.00073242 ... -0.00415039 -0.00396729\n",
      " -0.00405884] as keyword args. From version 0.10 passing these as positional arguments will result in an error\n",
      "  mel=np.mean(librosa.feature.melspectrogram(X, sr=sample_rate).T,axis=0)\n",
      "C:\\Users\\jayak\\AppData\\Local\\Temp\\ipykernel_2820\\1036010410.py:15: FutureWarning: Pass y=[-0.00137329 -0.0020752  -0.00149536 ...  0.00448608  0.00613403\n",
      "  0.00579834] as keyword args. From version 0.10 passing these as positional arguments will result in an error\n",
      "  mel=np.mean(librosa.feature.melspectrogram(X, sr=sample_rate).T,axis=0)\n",
      "C:\\Users\\jayak\\AppData\\Local\\Temp\\ipykernel_2820\\1036010410.py:15: FutureWarning: Pass y=[-0.00286865  0.0010376  -0.00134277 ... -0.00827026 -0.00790405\n",
      " -0.0083313 ] as keyword args. From version 0.10 passing these as positional arguments will result in an error\n",
      "  mel=np.mean(librosa.feature.melspectrogram(X, sr=sample_rate).T,axis=0)\n",
      "C:\\Users\\jayak\\AppData\\Local\\Temp\\ipykernel_2820\\1036010410.py:15: FutureWarning: Pass y=[ 0.00140381 -0.00418091 -0.00427246 ...  0.00421143  0.00222778\n",
      "  0.00616455] as keyword args. From version 0.10 passing these as positional arguments will result in an error\n",
      "  mel=np.mean(librosa.feature.melspectrogram(X, sr=sample_rate).T,axis=0)\n",
      "C:\\Users\\jayak\\AppData\\Local\\Temp\\ipykernel_2820\\1036010410.py:15: FutureWarning: Pass y=[-0.00585938 -0.00448608  0.00030518 ...  0.00595093  0.0065918\n",
      "  0.00671387] as keyword args. From version 0.10 passing these as positional arguments will result in an error\n",
      "  mel=np.mean(librosa.feature.melspectrogram(X, sr=sample_rate).T,axis=0)\n",
      "C:\\Users\\jayak\\AppData\\Local\\Temp\\ipykernel_2820\\1036010410.py:15: FutureWarning: Pass y=[ 0.00112915  0.00085449 -0.00030518 ... -0.01303101 -0.01254272\n",
      " -0.01251221] as keyword args. From version 0.10 passing these as positional arguments will result in an error\n",
      "  mel=np.mean(librosa.feature.melspectrogram(X, sr=sample_rate).T,axis=0)\n",
      "C:\\Users\\jayak\\AppData\\Local\\Temp\\ipykernel_2820\\1036010410.py:15: FutureWarning: Pass y=[-0.01040649 -0.00534058 -0.00253296 ... -0.00198364 -0.00152588\n",
      " -0.00354004] as keyword args. From version 0.10 passing these as positional arguments will result in an error\n",
      "  mel=np.mean(librosa.feature.melspectrogram(X, sr=sample_rate).T,axis=0)\n",
      "C:\\Users\\jayak\\AppData\\Local\\Temp\\ipykernel_2820\\1036010410.py:15: FutureWarning: Pass y=[-8.8500977e-04 -6.1035156e-05  3.9672852e-04 ... -1.9836426e-03\n",
      " -4.1809082e-03 -4.4250488e-03] as keyword args. From version 0.10 passing these as positional arguments will result in an error\n",
      "  mel=np.mean(librosa.feature.melspectrogram(X, sr=sample_rate).T,axis=0)\n",
      "C:\\Users\\jayak\\AppData\\Local\\Temp\\ipykernel_2820\\1036010410.py:15: FutureWarning: Pass y=[ 0.00158691  0.00015259 -0.00021362 ...  0.0022583   0.00164795\n",
      "  0.00033569] as keyword args. From version 0.10 passing these as positional arguments will result in an error\n",
      "  mel=np.mean(librosa.feature.melspectrogram(X, sr=sample_rate).T,axis=0)\n",
      "C:\\Users\\jayak\\AppData\\Local\\Temp\\ipykernel_2820\\1036010410.py:15: FutureWarning: Pass y=[-0.00057983 -0.00033569 -0.00305176 ... -0.00958252 -0.01171875\n",
      " -0.01602173] as keyword args. From version 0.10 passing these as positional arguments will result in an error\n",
      "  mel=np.mean(librosa.feature.melspectrogram(X, sr=sample_rate).T,axis=0)\n",
      "C:\\Users\\jayak\\AppData\\Local\\Temp\\ipykernel_2820\\1036010410.py:15: FutureWarning: Pass y=[-0.00186157 -0.00210571  0.00088501 ...  0.01083374  0.01516724\n",
      "  0.01101685] as keyword args. From version 0.10 passing these as positional arguments will result in an error\n",
      "  mel=np.mean(librosa.feature.melspectrogram(X, sr=sample_rate).T,axis=0)\n",
      "C:\\Users\\jayak\\AppData\\Local\\Temp\\ipykernel_2820\\1036010410.py:15: FutureWarning: Pass y=[ 0.00048828  0.00024414  0.00036621 ... -0.00878906  0.00274658\n",
      " -0.00143433] as keyword args. From version 0.10 passing these as positional arguments will result in an error\n",
      "  mel=np.mean(librosa.feature.melspectrogram(X, sr=sample_rate).T,axis=0)\n",
      "C:\\Users\\jayak\\AppData\\Local\\Temp\\ipykernel_2820\\1036010410.py:15: FutureWarning: Pass y=[-0.00064087 -0.00064087  0.         ...  0.01107788  0.00976562\n",
      "  0.00933838] as keyword args. From version 0.10 passing these as positional arguments will result in an error\n",
      "  mel=np.mean(librosa.feature.melspectrogram(X, sr=sample_rate).T,axis=0)\n",
      "C:\\Users\\jayak\\AppData\\Local\\Temp\\ipykernel_2820\\1036010410.py:15: FutureWarning: Pass y=[-0.00039673 -0.00067139 -0.00170898 ... -0.00549316 -0.00518799\n",
      " -0.00637817] as keyword args. From version 0.10 passing these as positional arguments will result in an error\n",
      "  mel=np.mean(librosa.feature.melspectrogram(X, sr=sample_rate).T,axis=0)\n",
      "C:\\Users\\jayak\\AppData\\Local\\Temp\\ipykernel_2820\\1036010410.py:15: FutureWarning: Pass y=[-0.00152588 -0.00024414  0.00115967 ... -0.0012207  -0.00317383\n",
      " -0.00308228] as keyword args. From version 0.10 passing these as positional arguments will result in an error\n",
      "  mel=np.mean(librosa.feature.melspectrogram(X, sr=sample_rate).T,axis=0)\n",
      "C:\\Users\\jayak\\AppData\\Local\\Temp\\ipykernel_2820\\1036010410.py:15: FutureWarning: Pass y=[ 0.00067139 -0.00161743 -0.00195312 ...  0.0039978   0.0027771\n",
      " -0.00482178] as keyword args. From version 0.10 passing these as positional arguments will result in an error\n",
      "  mel=np.mean(librosa.feature.melspectrogram(X, sr=sample_rate).T,axis=0)\n",
      "C:\\Users\\jayak\\AppData\\Local\\Temp\\ipykernel_2820\\1036010410.py:15: FutureWarning: Pass y=[ 0.0045166   0.00204468 -0.00839233 ... -0.00637817 -0.00305176\n",
      " -0.0043335 ] as keyword args. From version 0.10 passing these as positional arguments will result in an error\n",
      "  mel=np.mean(librosa.feature.melspectrogram(X, sr=sample_rate).T,axis=0)\n",
      "C:\\Users\\jayak\\AppData\\Local\\Temp\\ipykernel_2820\\1036010410.py:15: FutureWarning: Pass y=[ 2.9602051e-03  4.7912598e-03  5.4931641e-04 ... -2.1667480e-03\n",
      "  9.1552734e-05  4.2724609e-04] as keyword args. From version 0.10 passing these as positional arguments will result in an error\n",
      "  mel=np.mean(librosa.feature.melspectrogram(X, sr=sample_rate).T,axis=0)\n",
      "C:\\Users\\jayak\\AppData\\Local\\Temp\\ipykernel_2820\\1036010410.py:15: FutureWarning: Pass y=[1.2207031e-03 3.7841797e-03 3.0517578e-05 ... 3.9367676e-03 2.4719238e-03\n",
      " 4.0283203e-03] as keyword args. From version 0.10 passing these as positional arguments will result in an error\n",
      "  mel=np.mean(librosa.feature.melspectrogram(X, sr=sample_rate).T,axis=0)\n",
      "C:\\Users\\jayak\\AppData\\Local\\Temp\\ipykernel_2820\\1036010410.py:15: FutureWarning: Pass y=[ 0.00024414 -0.00079346 -0.00039673 ...  0.00653076  0.01205444\n",
      "  0.0043335 ] as keyword args. From version 0.10 passing these as positional arguments will result in an error\n",
      "  mel=np.mean(librosa.feature.melspectrogram(X, sr=sample_rate).T,axis=0)\n",
      "C:\\Users\\jayak\\AppData\\Local\\Temp\\ipykernel_2820\\1036010410.py:15: FutureWarning: Pass y=[-0.0017395   0.00100708 -0.00106812 ...  0.02770996  0.02502441\n",
      "  0.02514648] as keyword args. From version 0.10 passing these as positional arguments will result in an error\n",
      "  mel=np.mean(librosa.feature.melspectrogram(X, sr=sample_rate).T,axis=0)\n",
      "C:\\Users\\jayak\\AppData\\Local\\Temp\\ipykernel_2820\\1036010410.py:15: FutureWarning: Pass y=[-2.0141602e-03 -6.1035156e-04  6.1035156e-05 ...  1.3427734e-03\n",
      "  6.1035156e-03  1.4343262e-03] as keyword args. From version 0.10 passing these as positional arguments will result in an error\n",
      "  mel=np.mean(librosa.feature.melspectrogram(X, sr=sample_rate).T,axis=0)\n",
      "C:\\Users\\jayak\\AppData\\Local\\Temp\\ipykernel_2820\\1036010410.py:15: FutureWarning: Pass y=[-0.00192261 -0.00289917  0.00195312 ... -0.00326538 -0.00424194\n",
      " -0.00201416] as keyword args. From version 0.10 passing these as positional arguments will result in an error\n",
      "  mel=np.mean(librosa.feature.melspectrogram(X, sr=sample_rate).T,axis=0)\n",
      "C:\\Users\\jayak\\AppData\\Local\\Temp\\ipykernel_2820\\1036010410.py:15: FutureWarning: Pass y=[ 0.0000000e+00  3.0517578e-05  0.0000000e+00 ... -3.0517578e-04\n",
      " -9.4604492e-04 -9.1552734e-05] as keyword args. From version 0.10 passing these as positional arguments will result in an error\n",
      "  mel=np.mean(librosa.feature.melspectrogram(X, sr=sample_rate).T,axis=0)\n",
      "C:\\Users\\jayak\\AppData\\Local\\Temp\\ipykernel_2820\\1036010410.py:15: FutureWarning: Pass y=[-0.00689697 -0.00338745  0.00735474 ...  0.00314331  0.00582886\n",
      "  0.003479  ] as keyword args. From version 0.10 passing these as positional arguments will result in an error\n",
      "  mel=np.mean(librosa.feature.melspectrogram(X, sr=sample_rate).T,axis=0)\n",
      "C:\\Users\\jayak\\AppData\\Local\\Temp\\ipykernel_2820\\1036010410.py:15: FutureWarning: Pass y=[ 0.0000000e+00 -9.1552734e-05 -1.2207031e-04 ... -3.6621094e-04\n",
      "  0.0000000e+00  7.3242188e-04] as keyword args. From version 0.10 passing these as positional arguments will result in an error\n",
      "  mel=np.mean(librosa.feature.melspectrogram(X, sr=sample_rate).T,axis=0)\n",
      "C:\\Users\\jayak\\AppData\\Local\\Temp\\ipykernel_2820\\1036010410.py:15: FutureWarning: Pass y=[-6.1035156e-05 -4.2724609e-04 -3.6621094e-04 ... -9.4604492e-04\n",
      " -1.4648438e-03 -1.9226074e-03] as keyword args. From version 0.10 passing these as positional arguments will result in an error\n",
      "  mel=np.mean(librosa.feature.melspectrogram(X, sr=sample_rate).T,axis=0)\n"
     ]
    }
   ],
   "source": [
    "x_train,x_test,y_train,y_test=load_data(test_size=0.25)"
   ]
  },
  {
   "cell_type": "code",
   "execution_count": 6,
   "metadata": {},
   "outputs": [
    {
     "name": "stdout",
     "output_type": "stream",
     "text": [
      "(75, 25)\n"
     ]
    }
   ],
   "source": [
    "print((x_train.shape[0], x_test.shape[0]))"
   ]
  },
  {
   "cell_type": "code",
   "execution_count": 7,
   "metadata": {},
   "outputs": [
    {
     "name": "stdout",
     "output_type": "stream",
     "text": [
      "Features extracted: 180\n"
     ]
    }
   ],
   "source": [
    "print(f'Features extracted: {x_train.shape[1]}')"
   ]
  },
  {
   "cell_type": "markdown",
   "metadata": {},
   "source": [
    "MLP Classfier"
   ]
  },
  {
   "cell_type": "code",
   "execution_count": 8,
   "metadata": {},
   "outputs": [],
   "source": [
    "model=MLPClassifier(alpha=0.01, batch_size=256, epsilon=1e-08, hidden_layer_sizes=(300,), learning_rate='adaptive', max_iter=500)"
   ]
  },
  {
   "cell_type": "code",
   "execution_count": 9,
   "metadata": {},
   "outputs": [
    {
     "name": "stderr",
     "output_type": "stream",
     "text": [
      "f:\\3Y-odd\\ML\\Project\\SPH-stress\\venv\\lib\\site-packages\\sklearn\\neural_network\\_multilayer_perceptron.py:611: UserWarning: Got `batch_size` less than 1 or larger than sample size. It is going to be clipped\n",
      "  warnings.warn(\n"
     ]
    },
    {
     "data": {
      "text/plain": [
       "MLPClassifier(alpha=0.01, batch_size=256, hidden_layer_sizes=(300,),\n",
       "              learning_rate='adaptive', max_iter=500)"
      ]
     },
     "execution_count": 9,
     "metadata": {},
     "output_type": "execute_result"
    }
   ],
   "source": [
    "model.fit(x_train,y_train)"
   ]
  },
  {
   "cell_type": "code",
   "execution_count": 10,
   "metadata": {},
   "outputs": [],
   "source": [
    "y_pred=model.predict(x_test)"
   ]
  },
  {
   "cell_type": "code",
   "execution_count": 11,
   "metadata": {},
   "outputs": [
    {
     "name": "stdout",
     "output_type": "stream",
     "text": [
      "Accuracy: 64.00%\n"
     ]
    }
   ],
   "source": [
    "accuracy=accuracy_score(y_true=y_test, y_pred=y_pred)\n",
    "\n",
    "print(\"Accuracy: {:.2f}%\".format(accuracy*100))"
   ]
  },
  {
   "cell_type": "code",
   "execution_count": 12,
   "metadata": {},
   "outputs": [
    {
     "data": {
      "text/plain": [
       "array([[2, 0, 0, 0, 1],\n",
       "       [1, 6, 1, 1, 0],\n",
       "       [0, 1, 3, 1, 0],\n",
       "       [0, 0, 0, 4, 1],\n",
       "       [0, 0, 0, 2, 1]], dtype=int64)"
      ]
     },
     "execution_count": 12,
     "metadata": {},
     "output_type": "execute_result"
    }
   ],
   "source": [
    "from sklearn.metrics import confusion_matrix\n",
    "cm = confusion_matrix(y_true=y_test, y_pred=y_pred)\n",
    "cm"
   ]
  },
  {
   "cell_type": "code",
   "execution_count": 13,
   "metadata": {},
   "outputs": [
    {
     "data": {
      "image/png": "[encoded data removed]",
      "text/plain": [
       "<Figure size 432x288 with 2 Axes>"
      ]
     },
     "metadata": {
      "needs_background": "light"
     },
     "output_type": "display_data"
    }
   ],
   "source": [
    "import seaborn as sns\n",
    "import matplotlib.pyplot as plt\n",
    "sns.heatmap(cm, annot=True, fmt='d', cmap='Blues')\n",
    "plt.title('Confusion matrix')\n",
    "plt.ylabel('True label')\n",
    "plt.xlabel('Predicted label')\n",
    "plt.show()"
   ]
  }
 ],
 "metadata": {
  "kernelspec": {
   "display_name": "Python 3.9.6 ('venv': venv)",
   "language": "python",
   "name": "python3"
  },
  "language_info": {
   "codemirror_mode": {
    "name": "ipython",
    "version": 3
   },
   "file_extension": ".py",
   "mimetype": "text/x-python",
   "name": "python",
   "nbconvert_exporter": "python",
   "pygments_lexer": "ipython3",
   "version": "3.9.6"
  },
  "orig_nbformat": 4,
  "vscode": {
   "interpreter": {
    "hash": "50298e81cbb8ebac24ac13e17454bde3b69a2b956d90c240824723b496d9aaea"
   }
  }
 },
 "nbformat": 4,
 "nbformat_minor": 2
}
